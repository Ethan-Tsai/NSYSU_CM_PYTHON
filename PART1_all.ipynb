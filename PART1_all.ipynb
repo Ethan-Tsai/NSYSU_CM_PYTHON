{
  "cells": [
    {
      "cell_type": "markdown",
      "id": "bebc2964",
      "metadata": {
        "id": "bebc2964"
      },
      "source": [
        "# 第一部分 基本操作"
      ]
    },
    {
      "cell_type": "markdown",
      "id": "39108537",
      "metadata": {
        "id": "39108537"
      },
      "source": [
        "## 1.變數與型別"
      ]
    },
    {
      "cell_type": "code",
      "execution_count": null,
      "id": "6420de3e",
      "metadata": {
        "id": "6420de3e",
        "colab": {
          "base_uri": "https://localhost:8080/"
        },
        "outputId": "de46ed6b-b503-4565-f2c7-68fa64371b30"
      },
      "outputs": [
        {
          "output_type": "stream",
          "name": "stdout",
          "text": [
            "text\n"
          ]
        }
      ],
      "source": [
        "# ● 不需要事先宣告變數，直接用 = assign value（賦值）即可。\n",
        "x=3.14 #實數變數\n",
        "\n",
        "# ● 變數類型（data type）根據被賦予的值決定（之後如果被assign不同類型的數值，該變數的類型就會直接改變）\n",
        "x='text' #字串變數\n",
        "print(x)"
      ]
    },
    {
      "cell_type": "code",
      "execution_count": null,
      "id": "56c36bb4",
      "metadata": {
        "id": "56c36bb4",
        "colab": {
          "base_uri": "https://localhost:8080/"
        },
        "outputId": "4b75662c-830d-4d96-c720-439e8e969a53"
      },
      "outputs": [
        {
          "output_type": "execute_result",
          "data": {
            "text/plain": [
              "str"
            ]
          },
          "metadata": {},
          "execution_count": 2
        }
      ],
      "source": [
        "#確認變數的data type: type(x)\n",
        "\n",
        "type(x)"
      ]
    },
    {
      "cell_type": "code",
      "execution_count": null,
      "id": "3f6358ed",
      "metadata": {
        "id": "3f6358ed",
        "colab": {
          "base_uri": "https://localhost:8080/",
          "height": 212
        },
        "outputId": "22bdeaac-7700-466d-cfdd-d8f91b3a5c7b"
      },
      "outputs": [
        {
          "output_type": "error",
          "ename": "NameError",
          "evalue": "ignored",
          "traceback": [
            "\u001b[0;31m---------------------------------------------------------------------------\u001b[0m",
            "\u001b[0;31mNameError\u001b[0m                                 Traceback (most recent call last)",
            "\u001b[0;32m<ipython-input-3-92bd6eede026>\u001b[0m in \u001b[0;36m<cell line: 3>\u001b[0;34m()\u001b[0m\n\u001b[1;32m      1\u001b[0m \u001b[0;31m#刪除變數\u001b[0m\u001b[0;34m\u001b[0m\u001b[0;34m\u001b[0m\u001b[0m\n\u001b[1;32m      2\u001b[0m \u001b[0;32mdel\u001b[0m \u001b[0mx\u001b[0m\u001b[0;34m\u001b[0m\u001b[0;34m\u001b[0m\u001b[0m\n\u001b[0;32m----> 3\u001b[0;31m \u001b[0mprint\u001b[0m\u001b[0;34m(\u001b[0m\u001b[0mx\u001b[0m\u001b[0;34m)\u001b[0m\u001b[0;34m\u001b[0m\u001b[0;34m\u001b[0m\u001b[0m\n\u001b[0m",
            "\u001b[0;31mNameError\u001b[0m: name 'x' is not defined"
          ]
        }
      ],
      "source": [
        "#刪除變數\n",
        "del x\n",
        "print(x)"
      ]
    },
    {
      "cell_type": "markdown",
      "id": "c393323d",
      "metadata": {
        "id": "c393323d"
      },
      "source": [
        "### 認識不同型別"
      ]
    },
    {
      "cell_type": "code",
      "execution_count": null,
      "id": "989bd36f",
      "metadata": {
        "id": "989bd36f"
      },
      "outputs": [],
      "source": [
        "#number 類型\n",
        "a=3\n",
        "print('a: ',type(a))  #int 整數\n",
        "\n",
        "b=3.14\n",
        "print('b: ',type(b))  #float\n",
        "\n",
        "c=complex(1,3)\n",
        "print(c)\n",
        "print('c: ',type(c))  #complex\n",
        "\n",
        "#String 類型\n",
        "print(\"------------------------------------------------\")\n",
        "d=\"NMIXX\"\n",
        "print('d: ',type(d))  #str\n",
        "print(d[1:3])         #輸出0~3?\n",
        "\n",
        "#Boolean\n",
        "print(\"------------------------------------------------\")\n",
        "e= True\n",
        "print('e: ',type(e))  #bool\n",
        "print(not e)         #輸出甚麼?"
      ]
    },
    {
      "cell_type": "markdown",
      "id": "a4f188e2",
      "metadata": {
        "id": "a4f188e2"
      },
      "source": [
        "### 型別間的相互轉換"
      ]
    },
    {
      "cell_type": "code",
      "execution_count": null,
      "id": "338860e4",
      "metadata": {
        "id": "338860e4",
        "colab": {
          "base_uri": "https://localhost:8080/"
        },
        "outputId": "ce188b5f-f930-4d21-ead2-3eef1be18c81"
      },
      "outputs": [
        {
          "output_type": "stream",
          "name": "stdout",
          "text": [
            "<class 'int'>\n",
            "<class 'float'>\n",
            "10\n"
          ]
        }
      ],
      "source": [
        "#int()，float(),str()\n",
        "f=10\n",
        "print(type(f))\n",
        "\n",
        "print(type(float(f)))\n",
        "print(f)"
      ]
    },
    {
      "cell_type": "markdown",
      "id": "6ef961ad",
      "metadata": {
        "id": "6ef961ad"
      },
      "source": [
        "## 練習1"
      ]
    },
    {
      "cell_type": "markdown",
      "source": [
        "1.創建一個字串變數 my_string,並將其值設為你的英文名字.<br>\n",
        "2.將其輸出"
      ],
      "metadata": {
        "id": "E-7nlfDwbcNa"
      },
      "id": "E-7nlfDwbcNa"
    },
    {
      "cell_type": "code",
      "execution_count": null,
      "id": "eaadab1c",
      "metadata": {
        "id": "eaadab1c",
        "colab": {
          "base_uri": "https://localhost:8080/"
        },
        "outputId": "024a2415-c9d7-4474-afdb-04033be5bcdb"
      },
      "outputs": [
        {
          "output_type": "stream",
          "name": "stdout",
          "text": [
            "Ethan\n"
          ]
        }
      ],
      "source": [
        "#答案\n",
        "my_string = \"Ethan\"\n",
        "print(my_string)\n"
      ]
    },
    {
      "cell_type": "markdown",
      "id": "429e039b",
      "metadata": {
        "id": "429e039b"
      },
      "source": [
        "## 2.運算"
      ]
    },
    {
      "cell_type": "markdown",
      "id": "641ffc5e",
      "metadata": {
        "id": "641ffc5e"
      },
      "source": [
        "### 運算要有運算子"
      ]
    },
    {
      "cell_type": "markdown",
      "id": "11775e73",
      "metadata": {
        "id": "11775e73"
      },
      "source": [
        "![運算](https://ethan-tsai.github.io/py_materials/week1/Operation.webp)\n",
        "\n",
        "圖源&參考資料: https://medium.com/ccclub/ccclub-python-for-beginners-tutorial-71f55bccb693"
      ]
    },
    {
      "cell_type": "markdown",
      "id": "bde06fc9",
      "metadata": {
        "id": "bde06fc9"
      },
      "source": [
        "### 特殊用法"
      ]
    },
    {
      "cell_type": "code",
      "execution_count": null,
      "id": "1267e219",
      "metadata": {
        "id": "1267e219",
        "colab": {
          "base_uri": "https://localhost:8080/"
        },
        "outputId": "92130459-a328-4663-ec9b-0c91abee3d7f"
      },
      "outputs": [
        {
          "output_type": "stream",
          "name": "stdout",
          "text": [
            "I love you\n",
            "Twice Twice \n"
          ]
        }
      ],
      "source": [
        "# string 相加 +號\n",
        "str1=\"I love \"\n",
        "str2=\"you\"\n",
        "\n",
        "print(str1+str2)\n",
        "\n",
        "# string 重複 *號\n",
        "str3=\"Twice \"\n",
        "print(str3*2)"
      ]
    },
    {
      "cell_type": "markdown",
      "id": "0b89d8a0",
      "metadata": {
        "id": "0b89d8a0"
      },
      "source": [
        "## 練習2"
      ]
    },
    {
      "cell_type": "markdown",
      "id": "2e2c488c",
      "metadata": {
        "id": "2e2c488c"
      },
      "source": [
        "### 嘗試計算GPA\n",
        "1.設定程式設計得4.3, 3學分 <br>\n",
        "2.統計學得4分, 2學分\n",
        "3.計算平均GPA"
      ]
    },
    {
      "cell_type": "code",
      "execution_count": null,
      "id": "67d539f6",
      "metadata": {
        "id": "67d539f6",
        "colab": {
          "base_uri": "https://localhost:8080/"
        },
        "outputId": "cc68e0bf-c833-46a3-f8e9-a405cf64272b"
      },
      "outputs": [
        {
          "output_type": "stream",
          "name": "stdout",
          "text": [
            "4.18\n"
          ]
        }
      ],
      "source": [
        "#答案\n",
        "programing=4.3\n",
        "statistic=4\n",
        "\n",
        "print((programing*3+statistic*2)/5)\n"
      ]
    },
    {
      "cell_type": "markdown",
      "id": "d50660f4",
      "metadata": {
        "id": "d50660f4"
      },
      "source": [
        "## 3.輸入輸出"
      ]
    },
    {
      "cell_type": "markdown",
      "id": "12b35328",
      "metadata": {
        "id": "12b35328"
      },
      "source": [
        "### 輸入"
      ]
    },
    {
      "cell_type": "code",
      "execution_count": null,
      "id": "d55f15c3",
      "metadata": {
        "id": "d55f15c3",
        "colab": {
          "base_uri": "https://localhost:8080/"
        },
        "outputId": "73edc1c5-79d4-44ce-f4f9-6360a216b4fb"
      },
      "outputs": [
        {
          "output_type": "stream",
          "name": "stdout",
          "text": [
            "輸入後的字一開始都會被存成str: 44\n",
            "<class 'str'>\n",
            "將輸入的數字乘上3: 44\n",
            "132\n"
          ]
        }
      ],
      "source": [
        "a=input(\"輸入後的字一開始都會被存成str: \")\n",
        "print(type(a))\n",
        "\n",
        "#若是想輸入數字，可透過上面教過的int()轉換\n",
        "b=int(input(\"將輸入的數字乘上3: \"))\n",
        "\n",
        "print(b*3)    #是這樣嗎?"
      ]
    },
    {
      "cell_type": "markdown",
      "id": "7a06151e",
      "metadata": {
        "id": "7a06151e"
      },
      "source": [
        "### 輸出 - 有許多方式"
      ]
    },
    {
      "cell_type": "code",
      "execution_count": null,
      "id": "f1e0b690",
      "metadata": {
        "id": "f1e0b690",
        "colab": {
          "base_uri": "https://localhost:8080/"
        },
        "outputId": "71e05a27-90f5-4d7b-d0c2-b52af344fa55"
      },
      "outputs": [
        {
          "output_type": "stream",
          "name": "stdout",
          "text": [
            "My name is ethan and I am 20 years old.\n",
            "hi20hi\n",
            "my name is ethan\n"
          ]
        }
      ],
      "source": [
        "#1 f-string 用f\" \"搭配 {}\n",
        "name = \"ethan\"\n",
        "age = 20\n",
        "print(f\"My name is {name} and I am {age} years old.\")\n",
        "print(f\"hi{age}hi\")\n",
        "\n",
        "print(f\"my name is {name}\")"
      ]
    },
    {
      "cell_type": "code",
      "execution_count": null,
      "id": "c6238a75",
      "metadata": {
        "id": "c6238a75"
      },
      "outputs": [],
      "source": [
        "ate=\"gtt\"\n",
        "print(f\"hih{ate}i\")"
      ]
    },
    {
      "cell_type": "code",
      "execution_count": null,
      "id": "bebb6484",
      "metadata": {
        "id": "bebb6484"
      },
      "outputs": [],
      "source": [
        "#2 .format() 用{}\n",
        "name = \"Bob\"\n",
        "age = 25\n",
        "print(\"My name is {} and I am {} years old.\".format(name, age))\n"
      ]
    },
    {
      "cell_type": "code",
      "execution_count": null,
      "id": "517a2116",
      "metadata": {
        "id": "517a2116"
      },
      "outputs": [],
      "source": [
        "#3. % 類似 C語言 printf\n",
        "name = \"Charlie\"\n",
        "age = 35\n",
        "print(\"My name is %s and I am %d years old.\" % (name, age))\n",
        "\n",
        "#%d- 整數 %s-字串  %f-浮點數"
      ]
    },
    {
      "cell_type": "code",
      "execution_count": null,
      "id": "8ce969d1",
      "metadata": {
        "id": "8ce969d1"
      },
      "outputs": [],
      "source": [
        "#4. +號\n",
        "fruits = [\"apple\", \"banana\", \"cherry\"]\n",
        "fruits_str = \", \".join(fruits)\n",
        "print(\"I like to eat: \" + fruits_str)\n"
      ]
    },
    {
      "cell_type": "markdown",
      "id": "ea9cbf3e",
      "metadata": {
        "id": "ea9cbf3e"
      },
      "source": [
        "## 4.邏輯判斷 if"
      ]
    },
    {
      "cell_type": "markdown",
      "id": "c89cf5f8",
      "metadata": {
        "id": "c89cf5f8"
      },
      "source": [
        "#### 根據你設定的“條件”，讓電腦判斷應該要執行或跳過某一段程式“條件”→某個“邏輯判斷”成立(true)    <br>(例如: 當a變數>5的時候，才print(a))"
      ]
    },
    {
      "cell_type": "code",
      "execution_count": null,
      "id": "2160b8de",
      "metadata": {
        "id": "2160b8de"
      },
      "outputs": [],
      "source": [
        "a=17\n",
        "if a==18:\n",
        "    print(\"hi\")"
      ]
    },
    {
      "cell_type": "code",
      "execution_count": null,
      "id": "f0662305",
      "metadata": {
        "id": "f0662305",
        "colab": {
          "base_uri": "https://localhost:8080/"
        },
        "outputId": "a67398b5-4557-4a83-e19e-9b77d30b1ca7"
      },
      "outputs": [
        {
          "output_type": "stream",
          "name": "stdout",
          "text": [
            "103\n"
          ]
        }
      ],
      "source": [
        "a=0\n",
        "b=3\n",
        "\n",
        "if a>5:\n",
        "  a+=1\n",
        "  print(a)\n",
        "\n",
        "if b<5:\n",
        "    b+=100\n",
        "    print(b)\n",
        "\n"
      ]
    },
    {
      "cell_type": "markdown",
      "id": "fc912278",
      "metadata": {
        "id": "fc912278"
      },
      "source": [
        "### [重要]! 縮排要準確(鍵盤上的tab)"
      ]
    },
    {
      "cell_type": "code",
      "execution_count": null,
      "id": "1d0445ba",
      "metadata": {
        "id": "1d0445ba",
        "colab": {
          "base_uri": "https://localhost:8080/"
        },
        "outputId": "b946ab55-edbb-45f8-fdce-b26288216e60"
      },
      "outputs": [
        {
          "output_type": "stream",
          "name": "stdout",
          "text": [
            "0\n"
          ]
        }
      ],
      "source": [
        "# 跟上面差在哪裡呢?\n",
        "\n",
        "a=0\n",
        "if a>5:\n",
        "  a+=1\n",
        "\n",
        "print(a)"
      ]
    },
    {
      "cell_type": "markdown",
      "id": "6e095a1e",
      "metadata": {
        "id": "6e095a1e"
      },
      "source": [
        "### if...else   如果 ..... 否則\n",
        "### if...elif...else 如果...不然如果...否則"
      ]
    },
    {
      "cell_type": "code",
      "execution_count": null,
      "id": "fd9b5e8a",
      "metadata": {
        "id": "fd9b5e8a",
        "colab": {
          "base_uri": "https://localhost:8080/"
        },
        "outputId": "941d5a25-2625-448a-9190-edc72e17dbd8"
      },
      "outputs": [
        {
          "output_type": "stream",
          "name": "stdout",
          "text": [
            "你幾歲: 55\n",
            "全票\n"
          ]
        }
      ],
      "source": [
        "age=int(input(\"你幾歲: \"))\n",
        "\n",
        "if age>=65:\n",
        "    print(\"優待票\")\n",
        "elif age>=18:\n",
        "    print(\"全票\")\n",
        "elif age>=12:\n",
        "    print(\"學生票\")\n",
        "else:\n",
        "    print(\"孩童免費\")"
      ]
    },
    {
      "cell_type": "markdown",
      "id": "902d505d",
      "metadata": {
        "id": "902d505d"
      },
      "source": [
        "#### 從上面的例子，有沒有注意到甚麼小技巧(提示: 判斷的順序)"
      ]
    },
    {
      "cell_type": "markdown",
      "id": "d9761e76",
      "metadata": {
        "id": "d9761e76"
      },
      "source": [
        "## 練習A"
      ]
    },
    {
      "cell_type": "markdown",
      "id": "10c285a7",
      "metadata": {
        "id": "10c285a7"
      },
      "source": [
        "### 1.輸入您的考試成績 <br>2.用if elif else判斷等第 <br>3.輸出: [您的成績是 XXX，等第結果是：XX]  \n",
        "90-100=A+, 80-90=A...\n",
        "再補充: python中不是& 是and or 歐~"
      ]
    },
    {
      "cell_type": "code",
      "execution_count": null,
      "id": "e4286c6c",
      "metadata": {
        "id": "e4286c6c",
        "colab": {
          "base_uri": "https://localhost:8080/"
        },
        "outputId": "679f2a96-41a7-41eb-8f0f-fcc19e845d95"
      },
      "outputs": [
        {
          "output_type": "stream",
          "name": "stdout",
          "text": [
            "你幾分: 86\n",
            "B\n"
          ]
        }
      ],
      "source": [
        "#答案\n",
        "score=int(input(\"你幾分: \"))\n",
        "\n",
        "if score>=90:\n",
        "    print(\"A+\")\n",
        "elif score>=80:\n",
        "    print(\"B\")\n",
        "elif score>=70:\n",
        "    print(\"C\")\n",
        "else:\n",
        "    print(\"D\")\n"
      ]
    },
    {
      "cell_type": "markdown",
      "id": "1fcdec79",
      "metadata": {
        "id": "1fcdec79"
      },
      "source": [
        "## 5.邏輯判斷 while"
      ]
    },
    {
      "cell_type": "code",
      "execution_count": null,
      "id": "1f473496",
      "metadata": {
        "id": "1f473496",
        "colab": {
          "base_uri": "https://localhost:8080/"
        },
        "outputId": "f40be810-c759-4c1a-a4e2-d4c081a324c4"
      },
      "outputs": [
        {
          "output_type": "stream",
          "name": "stdout",
          "text": [
            "天線寶寶說: c\n",
            "天線寶寶說: hi\n",
            "天線寶寶說: 你好\n",
            "答對了\n"
          ]
        }
      ],
      "source": [
        "# while 常用在判斷有沒有接收到正確的輸入，或是有幾個接收case\n",
        "\n",
        "ask=True\n",
        "while ask:\n",
        "    a=input(\"天線寶寶說: \")\n",
        "    if (a==\"你好\"):\n",
        "        ask=False\n",
        "\n",
        "print(\"答對了\")"
      ]
    },
    {
      "cell_type": "code",
      "execution_count": null,
      "id": "19655032",
      "metadata": {
        "id": "19655032",
        "colab": {
          "base_uri": "https://localhost:8080/"
        },
        "outputId": "6decc117-be65-4f06-c10e-68ff6b50e27f"
      },
      "outputs": [
        {
          "output_type": "stream",
          "name": "stdout",
          "text": [
            "幾個case: 5\n",
            "還有5次.\n",
            "還有4次.\n",
            "還有3次.\n",
            "還有2次.\n",
            "還有1次.\n"
          ]
        }
      ],
      "source": [
        "case_num=int(input(\"幾個case: \"))\n",
        "while case_num:\n",
        "    #這裡通常會是要執行的內容\n",
        "    print(f\"還有{case_num}次.\")\n",
        "    case_num-=1"
      ]
    },
    {
      "cell_type": "markdown",
      "id": "4db11d45",
      "metadata": {
        "id": "4db11d45"
      },
      "source": [
        "## 6. 迴圈 for"
      ]
    },
    {
      "cell_type": "markdown",
      "id": "73abce9b",
      "metadata": {
        "id": "73abce9b"
      },
      "source": [
        "你可以設定重複的次數，以及每次重複時\n",
        "要做甚麼運算(計數、累加、輸出…)"
      ]
    },
    {
      "cell_type": "code",
      "execution_count": null,
      "id": "352df157",
      "metadata": {
        "id": "352df157",
        "colab": {
          "base_uri": "https://localhost:8080/"
        },
        "outputId": "240fb390-e50b-48c7-b714-b5aee9441f53"
      },
      "outputs": [
        {
          "output_type": "stream",
          "name": "stdout",
          "text": [
            "0\n",
            "1\n",
            "2\n",
            "3\n",
            "4\n",
            "5050\n"
          ]
        }
      ],
      "source": [
        "#基本\n",
        "for i in range(5):\n",
        "    print(i)\n",
        "\n",
        "\n",
        "#1+2+3.....+99+100\n",
        "A=0\n",
        "for i in range(101):\n",
        "    A=A+i\n",
        "print(A)"
      ]
    },
    {
      "cell_type": "markdown",
      "source": [
        "用法1: range(n) ：從0開始，每次增加1，直到n-1<br>for i in range(3): → i = 0, 1, 2"
      ],
      "metadata": {
        "id": "Umfe4HgWRxQp"
      },
      "id": "Umfe4HgWRxQp"
    },
    {
      "cell_type": "markdown",
      "source": [
        "用法2: 從第一個數開始，每次增加1，直到該數-1\n",
        "<br>for i in range(1,3): → i = 1, 2"
      ],
      "metadata": {
        "id": "u-5Z1txaSKcL"
      },
      "id": "u-5Z1txaSKcL"
    },
    {
      "cell_type": "markdown",
      "source": [
        "用法3:<br>\n",
        "◼ for i in range(1,8,2): → i=1, 3, 5, 7<br>\n",
        "◼ for i in range(8,1,-2): → i=8, 6, 4, 2"
      ],
      "metadata": {
        "id": "8zRThvKcSt3Q"
      },
      "id": "8zRThvKcSt3Q"
    },
    {
      "cell_type": "code",
      "execution_count": null,
      "id": "51d41356",
      "metadata": {
        "id": "51d41356",
        "colab": {
          "base_uri": "https://localhost:8080/"
        },
        "outputId": "8a416cae-c789-47ae-fa30-70723cfb0cc4"
      },
      "outputs": [
        {
          "output_type": "stream",
          "name": "stdout",
          "text": [
            "H\n",
            "e\n",
            "l\n",
            "l\n",
            "o\n"
          ]
        }
      ],
      "source": [
        "# 也支援這種寫法 是不是很方便呢?\n",
        "text = \"Hello\"\n",
        "for i in text:\n",
        "    print(i)"
      ]
    },
    {
      "cell_type": "code",
      "execution_count": null,
      "id": "62e41edc",
      "metadata": {
        "id": "62e41edc",
        "colab": {
          "base_uri": "https://localhost:8080/"
        },
        "outputId": "b31239bc-7960-41fd-c092-8f47f8b02e5f"
      },
      "outputs": [
        {
          "output_type": "stream",
          "name": "stdout",
          "text": [
            "1 * 1 = 1\t1 * 2 = 2\t1 * 3 = 3\t1 * 4 = 4\t1 * 5 = 5\t1 * 6 = 6\t1 * 7 = 7\t1 * 8 = 8\t1 * 9 = 9\t\n",
            "2 * 1 = 2\t2 * 2 = 4\t2 * 3 = 6\t2 * 4 = 8\t2 * 5 = 10\t2 * 6 = 12\t2 * 7 = 14\t2 * 8 = 16\t2 * 9 = 18\t\n",
            "3 * 1 = 3\t3 * 2 = 6\t3 * 3 = 9\t3 * 4 = 12\t3 * 5 = 15\t3 * 6 = 18\t3 * 7 = 21\t3 * 8 = 24\t3 * 9 = 27\t\n",
            "4 * 1 = 4\t4 * 2 = 8\t4 * 3 = 12\t4 * 4 = 16\t4 * 5 = 20\t4 * 6 = 24\t4 * 7 = 28\t4 * 8 = 32\t4 * 9 = 36\t\n",
            "5 * 1 = 5\t5 * 2 = 10\t5 * 3 = 15\t5 * 4 = 20\t5 * 5 = 25\t5 * 6 = 30\t5 * 7 = 35\t5 * 8 = 40\t5 * 9 = 45\t\n",
            "6 * 1 = 6\t6 * 2 = 12\t6 * 3 = 18\t6 * 4 = 24\t6 * 5 = 30\t6 * 6 = 36\t6 * 7 = 42\t6 * 8 = 48\t6 * 9 = 54\t\n",
            "7 * 1 = 7\t7 * 2 = 14\t7 * 3 = 21\t7 * 4 = 28\t7 * 5 = 35\t7 * 6 = 42\t7 * 7 = 49\t7 * 8 = 56\t7 * 9 = 63\t\n",
            "8 * 1 = 8\t8 * 2 = 16\t8 * 3 = 24\t8 * 4 = 32\t8 * 5 = 40\t8 * 6 = 48\t8 * 7 = 56\t8 * 8 = 64\t8 * 9 = 72\t\n",
            "9 * 1 = 9\t9 * 2 = 18\t9 * 3 = 27\t9 * 4 = 36\t9 * 5 = 45\t9 * 6 = 54\t9 * 7 = 63\t9 * 8 = 72\t9 * 9 = 81\t\n"
          ]
        }
      ],
      "source": [
        "\n",
        "for i in range(1, 10):\n",
        "#i=9\n",
        "    for j in range(1, 10):\n",
        "#j=1-9\n",
        "        print(f\"{i} * {j} = {i * j}\", end=\"\\t\")\n",
        "    print()\n"
      ]
    },
    {
      "cell_type": "markdown",
      "id": "fe477fec",
      "metadata": {
        "id": "fe477fec"
      },
      "source": [
        "算出 1!+2!+3!.....+10!"
      ]
    },
    {
      "cell_type": "code",
      "execution_count": null,
      "id": "5cf6f98f",
      "metadata": {
        "id": "5cf6f98f",
        "colab": {
          "base_uri": "https://localhost:8080/"
        },
        "outputId": "2491486e-7442-40cd-f9d8-eb8e76541eee"
      },
      "outputs": [
        {
          "output_type": "stream",
          "name": "stdout",
          "text": [
            "4037913\n"
          ]
        }
      ],
      "source": [
        "#邏輯有點複雜-想想看囉~\n",
        "\n",
        "A=0\n",
        "B=1\n",
        "for i in range(1,11):\n",
        "    B*=i # logic\n",
        "    A+=B\n",
        "print(A)"
      ]
    },
    {
      "cell_type": "markdown",
      "id": "13bb60bc",
      "metadata": {
        "id": "13bb60bc"
      },
      "source": [
        "### 練習B - 程式必考題[金字塔]"
      ]
    },
    {
      "cell_type": "markdown",
      "id": "b1bc09dd",
      "metadata": {
        "id": "b1bc09dd"
      },
      "source": [
        "運用for print出金字塔<br>hint: 空格=總高-目前高,* =2 x 高-1"
      ]
    },
    {
      "cell_type": "code",
      "execution_count": null,
      "id": "d2b692f8",
      "metadata": {
        "id": "d2b692f8",
        "colab": {
          "base_uri": "https://localhost:8080/"
        },
        "outputId": "71e638e5-0a13-4db7-a7f6-7e6ac48583a1"
      },
      "outputs": [
        {
          "output_type": "stream",
          "name": "stdout",
          "text": [
            "     \n",
            "    *\n",
            "   ***\n",
            "  *****\n",
            " *******\n",
            "*********\n"
          ]
        }
      ],
      "source": [
        "#ver1\n",
        "n=6\n",
        "for i in range(n):\n",
        "  print(\" \"*(n-i-1),end=\"\")#space #no next line\n",
        "  print(\"*\"*(2*i-1)) #* #2倍高度-1"
      ]
    },
    {
      "cell_type": "code",
      "execution_count": null,
      "id": "bf75376f",
      "metadata": {
        "id": "bf75376f",
        "colab": {
          "base_uri": "https://localhost:8080/"
        },
        "outputId": "039a31cf-be7c-4193-dce7-7d1cc9d673eb"
      },
      "outputs": [
        {
          "output_type": "stream",
          "name": "stdout",
          "text": [
            "     \n",
            "    *\n",
            "   ***\n",
            "  *****\n",
            " *******\n",
            "*********\n"
          ]
        }
      ],
      "source": [
        "#ver2\n",
        "\n",
        "n=6\n",
        "for i in range(n):\n",
        "  print(\" \"*(n-i-1)+(\"*\"*(2*i-1)))#space #no next line\n"
      ]
    },
    {
      "cell_type": "markdown",
      "id": "5fedf364",
      "metadata": {
        "id": "5fedf364"
      },
      "source": [
        "## 7.函式"
      ]
    },
    {
      "cell_type": "code",
      "execution_count": null,
      "id": "3da029ca",
      "metadata": {
        "id": "3da029ca"
      },
      "outputs": [],
      "source": [
        "def function_name(value):\n",
        "    print(\"函式內容在這\")"
      ]
    },
    {
      "cell_type": "markdown",
      "id": "d62199cb",
      "metadata": {
        "id": "d62199cb"
      },
      "source": [
        "#### 參數與回傳值"
      ]
    },
    {
      "cell_type": "code",
      "execution_count": null,
      "id": "cac9a076",
      "metadata": {
        "id": "cac9a076",
        "colab": {
          "base_uri": "https://localhost:8080/"
        },
        "outputId": "559b1955-6ca4-43f1-fbd0-48ea3e5e592f"
      },
      "outputs": [
        {
          "output_type": "stream",
          "name": "stdout",
          "text": [
            "1400\n"
          ]
        }
      ],
      "source": [
        "def calculate_multi7(number): #step2: 參數 number=20\n",
        "\n",
        "    return number*70\n",
        "\n",
        "\n",
        "result=calculate_multi7(20)  #step1: 呼叫 \"calculate_multi7\" 並給引數=20，同時將回傳值存進result\n",
        "\n",
        "print(result)"
      ]
    },
    {
      "cell_type": "markdown",
      "source": [
        "## 進階練習"
      ],
      "metadata": {
        "id": "7T92gzvOZcpp"
      },
      "id": "7T92gzvOZcpp"
    },
    {
      "cell_type": "code",
      "execution_count": null,
      "id": "f7690d86",
      "metadata": {
        "id": "f7690d86",
        "colab": {
          "base_uri": "https://localhost:8080/"
        },
        "outputId": "c195ee3a-b623-448b-a7d2-fcab1b809d75"
      },
      "outputs": [
        {
          "output_type": "stream",
          "name": "stdout",
          "text": [
            "你想要金字塔幾層20\n",
            "                   \n",
            "                  *\n",
            "                 ***\n",
            "                *****\n",
            "               *******\n",
            "              *********\n",
            "             ***********\n",
            "            *************\n",
            "           ***************\n",
            "          *****************\n",
            "         *******************\n",
            "        *********************\n",
            "       ***********************\n",
            "      *************************\n",
            "     ***************************\n",
            "    *****************************\n",
            "   *******************************\n",
            "  *********************************\n",
            " ***********************************\n",
            "*************************************\n"
          ]
        }
      ],
      "source": [
        "#進階練習\n",
        "def print_pyramid(layer):\n",
        "# 完成此區\n",
        "  n=layer\n",
        "  for i in range(n):\n",
        "    print(\" \"*(n-i-1)+(\"*\"*(2*i-1)))#space #no next line\n",
        "\n",
        "num=int(input(\"你想要金字塔幾層\"))\n",
        "\n",
        "print_pyramid(num) #呼叫"
      ]
    },
    {
      "cell_type": "markdown",
      "id": "6c5b912a",
      "metadata": {
        "id": "6c5b912a"
      },
      "source": [
        "## 8.模組是甚麼?"
      ]
    },
    {
      "cell_type": "code",
      "execution_count": null,
      "id": "f02409e8",
      "metadata": {
        "id": "f02409e8",
        "colab": {
          "base_uri": "https://localhost:8080/"
        },
        "outputId": "64e7b3e7-a312-412c-bc52-6391bd82ba27"
      },
      "outputs": [
        {
          "output_type": "stream",
          "name": "stdout",
          "text": [
            "7.0\n"
          ]
        }
      ],
      "source": [
        "import math as m\n",
        "#math.sqrt()\n",
        "test=m.sqrt(49)\n",
        "print(test)"
      ]
    },
    {
      "cell_type": "code",
      "execution_count": null,
      "id": "a4d011e9",
      "metadata": {
        "id": "a4d011e9"
      },
      "outputs": [],
      "source": [
        "import numpy as np\n",
        "arr = np.array([1, 2, 3, 4, 5])\n",
        "\n",
        "\n",
        "mean_value = np.mean(arr)\n",
        "variance = np.var(arr)\n",
        "min_value = np.min(arr)\n",
        "\n",
        "print(mean_value,variance,min_value)"
      ]
    },
    {
      "cell_type": "markdown",
      "id": "6771c99d",
      "metadata": {
        "id": "6771c99d"
      },
      "source": [
        "### 補充- 遞迴"
      ]
    },
    {
      "cell_type": "code",
      "execution_count": null,
      "id": "bb754daa",
      "metadata": {
        "id": "bb754daa"
      },
      "outputs": [],
      "source": [
        "# n! = n * (n-1)!，其中 n > 0\n",
        "# 0! = 1\n",
        "#5!=5*4!  5*f(4)\n",
        "\n",
        "#5*4*3! 5*4*f(3)\n",
        "\n",
        "def factorial(n):\n",
        "    if n == 0:\n",
        "        return 1\n",
        "    else:\n",
        "        return n * factorial(n - 1)   #遞迴(Recursion)\n",
        "\n",
        "result = factorial(5)\n",
        "print(result)"
      ]
    }
  ],
  "metadata": {
    "kernelspec": {
      "display_name": "Python 3 (ipykernel)",
      "language": "python",
      "name": "python3"
    },
    "language_info": {
      "codemirror_mode": {
        "name": "ipython",
        "version": 3
      },
      "file_extension": ".py",
      "mimetype": "text/x-python",
      "name": "python",
      "nbconvert_exporter": "python",
      "pygments_lexer": "ipython3",
      "version": "3.9.13"
    },
    "colab": {
      "provenance": []
    }
  },
  "nbformat": 4,
  "nbformat_minor": 5
}