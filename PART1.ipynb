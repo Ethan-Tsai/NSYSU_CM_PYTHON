{
  "cells": [
    {
      "cell_type": "markdown",
      "id": "bebc2964",
      "metadata": {
        "id": "bebc2964"
      },
      "source": [
        "# 第一部分 基本操作"
      ]
    },
    {
      "cell_type": "markdown",
      "id": "39108537",
      "metadata": {
        "id": "39108537"
      },
      "source": [
        "## 1.變數與型別"
      ]
    },
    {
      "cell_type": "code",
      "execution_count": null,
      "id": "6420de3e",
      "metadata": {
        "id": "6420de3e"
      },
      "outputs": [],
      "source": [
        "# ● 不需要事先宣告變數，直接用 = assign value（賦值）即可。\n",
        "x=3.14 #實數變數\n",
        "\n",
        "# ● 變數類型（data type）根據被賦予的值決定（之後如果被assign不同類型的數值，該變數的類型就會直接改變）\n",
        "x='text' #字串變數\n",
        "print(x)"
      ]
    },
    {
      "cell_type": "code",
      "execution_count": null,
      "id": "56c36bb4",
      "metadata": {
        "id": "56c36bb4"
      },
      "outputs": [],
      "source": [
        "#確認變數的data type: type(x)\n",
        "\n",
        "type(x)"
      ]
    },
    {
      "cell_type": "code",
      "execution_count": null,
      "id": "3f6358ed",
      "metadata": {
        "id": "3f6358ed"
      },
      "outputs": [],
      "source": [
        "#刪除變數\n",
        "del x\n",
        "print(x)"
      ]
    },
    {
      "cell_type": "markdown",
      "id": "c393323d",
      "metadata": {
        "id": "c393323d"
      },
      "source": [
        "### 認識不同型別"
      ]
    },
    {
      "cell_type": "code",
      "execution_count": null,
      "id": "989bd36f",
      "metadata": {
        "id": "989bd36f"
      },
      "outputs": [],
      "source": [
        "#number 類型\n",
        "a=3\n",
        "print('a: ',type(a))  #int\n",
        "\n",
        "b=3.14\n",
        "print('b: ',type(b))  #float\n",
        "\n",
        "c=complex(1,3)\n",
        "print(c)\n",
        "print('c: ',type(c))  #complex\n",
        "\n",
        "#String 類型\n",
        "print(\"------------------------------------------------\")\n",
        "d=\"NMIXX\"\n",
        "print('d: ',type(d))  #str\n",
        "print(d[1:3])         #輸出0~3?\n",
        "\n",
        "#Boolean\n",
        "print(\"------------------------------------------------\")\n",
        "e= True\n",
        "print('e: ',type(e))  #bool\n",
        "print(not e)         #輸出甚麼?"
      ]
    },
    {
      "cell_type": "markdown",
      "id": "a4f188e2",
      "metadata": {
        "id": "a4f188e2"
      },
      "source": [
        "### 型別間的相互轉換"
      ]
    },
    {
      "cell_type": "code",
      "execution_count": null,
      "id": "338860e4",
      "metadata": {
        "id": "338860e4"
      },
      "outputs": [],
      "source": [
        "#int()，float(),str()\n",
        "f=10\n",
        "print(type(f))\n",
        "print(type(float(f)))\n",
        "print(f)"
      ]
    },
    {
      "cell_type": "markdown",
      "id": "6ef961ad",
      "metadata": {
        "id": "6ef961ad"
      },
      "source": [
        "## 練習1"
      ]
    },
    {
      "cell_type": "markdown",
      "source": [
        "1.創建一個字串變數 my_string,並將其值設為你的英文名字.<br>\n",
        "2.將其輸出"
      ],
      "metadata": {
        "id": "E-7nlfDwbcNa"
      },
      "id": "E-7nlfDwbcNa"
    },
    {
      "cell_type": "code",
      "execution_count": null,
      "id": "eaadab1c",
      "metadata": {
        "id": "eaadab1c"
      },
      "outputs": [],
      "source": [
        "#答案\n"
      ]
    },
    {
      "cell_type": "markdown",
      "id": "429e039b",
      "metadata": {
        "id": "429e039b"
      },
      "source": [
        "## 2.運算"
      ]
    },
    {
      "cell_type": "markdown",
      "id": "641ffc5e",
      "metadata": {
        "id": "641ffc5e"
      },
      "source": [
        "### 運算要有運算子"
      ]
    },
    {
      "cell_type": "markdown",
      "id": "11775e73",
      "metadata": {
        "id": "11775e73"
      },
      "source": [
        "![運算](https://ethan-tsai.github.io/py_materials/week1/Operation.webp)\n",
        "\n",
        "圖源&參考資料: https://medium.com/ccclub/ccclub-python-for-beginners-tutorial-71f55bccb693"
      ]
    },
    {
      "cell_type": "markdown",
      "id": "bde06fc9",
      "metadata": {
        "id": "bde06fc9"
      },
      "source": [
        "### 特殊用法"
      ]
    },
    {
      "cell_type": "code",
      "execution_count": null,
      "id": "1267e219",
      "metadata": {
        "id": "1267e219"
      },
      "outputs": [],
      "source": [
        "# string 相加 +號\n",
        "str1=\"I love \"\n",
        "str2=\"you\"\n",
        "\n",
        "print(str1+str2)\n",
        "\n",
        "# string 重複 *號\n",
        "str3=\"Twice \"\n",
        "print(str3*2)"
      ]
    },
    {
      "cell_type": "markdown",
      "id": "0b89d8a0",
      "metadata": {
        "id": "0b89d8a0"
      },
      "source": [
        "## 練習2"
      ]
    },
    {
      "cell_type": "markdown",
      "id": "2e2c488c",
      "metadata": {
        "id": "2e2c488c"
      },
      "source": [
        "### 嘗試計算GPA\n",
        "1.設定程式設計得4.3, 3學分 <br>\n",
        "2.統計學得4分, 2學分\n",
        "3.計算平均GPA"
      ]
    },
    {
      "cell_type": "code",
      "execution_count": null,
      "id": "67d539f6",
      "metadata": {
        "id": "67d539f6"
      },
      "outputs": [],
      "source": [
        "#答案\n"
      ]
    },
    {
      "cell_type": "markdown",
      "id": "d50660f4",
      "metadata": {
        "id": "d50660f4"
      },
      "source": [
        "## 3.輸入輸出"
      ]
    },
    {
      "cell_type": "markdown",
      "id": "12b35328",
      "metadata": {
        "id": "12b35328"
      },
      "source": [
        "### 輸入"
      ]
    },
    {
      "cell_type": "code",
      "execution_count": null,
      "id": "d55f15c3",
      "metadata": {
        "id": "d55f15c3"
      },
      "outputs": [],
      "source": [
        "a=input(\"輸入後的字一開始都會被存成str: \")\n",
        "print(type(a))\n",
        "\n",
        "#若是想輸入數字，可透過上面教過的int()轉換\n",
        "b=int(input(\"將輸入的數字乘上3: \"))\n",
        "\n",
        "print(b*3)    #是這樣嗎?"
      ]
    },
    {
      "cell_type": "markdown",
      "id": "7a06151e",
      "metadata": {
        "id": "7a06151e"
      },
      "source": [
        "### 輸出 - 有許多方式"
      ]
    },
    {
      "cell_type": "code",
      "execution_count": null,
      "id": "f1e0b690",
      "metadata": {
        "id": "f1e0b690"
      },
      "outputs": [],
      "source": [
        "#1 f-string 用f\" \"搭配 {}\n",
        "name = \"Alice\"\n",
        "age = 30\n",
        "print(f\"My name is {name} and I am {age} years old.\")\n",
        "print(f\"hi{age}hi\")"
      ]
    },
    {
      "cell_type": "code",
      "execution_count": null,
      "id": "c6238a75",
      "metadata": {
        "id": "c6238a75"
      },
      "outputs": [],
      "source": [
        "ate=\"gtt\"\n",
        "print(f\"hih{ate}i\")"
      ]
    },
    {
      "cell_type": "code",
      "execution_count": null,
      "id": "bebb6484",
      "metadata": {
        "id": "bebb6484"
      },
      "outputs": [],
      "source": [
        "#2 .format() 用{}\n",
        "name = \"Bob\"\n",
        "age = 25\n",
        "print(\"My name is {} and I am {} years old.\".format(name, age))\n"
      ]
    },
    {
      "cell_type": "code",
      "execution_count": null,
      "id": "517a2116",
      "metadata": {
        "id": "517a2116"
      },
      "outputs": [],
      "source": [
        "#3. % 類似 C語言 printf\n",
        "name = \"Charlie\"\n",
        "age = 35\n",
        "print(\"My name is %s and I am %d years old.\" % (name, age))\n",
        "\n",
        "#%d- 整數 %s-字串  %f-浮點數"
      ]
    },
    {
      "cell_type": "code",
      "execution_count": null,
      "id": "8ce969d1",
      "metadata": {
        "id": "8ce969d1"
      },
      "outputs": [],
      "source": [
        "#4. +號\n",
        "fruits = [\"apple\", \"banana\", \"cherry\"]\n",
        "fruits_str = \", \".join(fruits)\n",
        "print(\"I like to eat: \" + fruits_str)\n"
      ]
    },
    {
      "cell_type": "markdown",
      "id": "ea9cbf3e",
      "metadata": {
        "id": "ea9cbf3e"
      },
      "source": [
        "## 4.邏輯判斷 if"
      ]
    },
    {
      "cell_type": "markdown",
      "id": "c89cf5f8",
      "metadata": {
        "id": "c89cf5f8"
      },
      "source": [
        "#### 根據你設定的“條件”，讓電腦判斷應該要執行或跳過某一段程式“條件”→某個“邏輯判斷”成立(true)    <br>(例如: 當a變數>5的時候，才print(a))"
      ]
    },
    {
      "cell_type": "code",
      "execution_count": null,
      "id": "2160b8de",
      "metadata": {
        "id": "2160b8de"
      },
      "outputs": [],
      "source": [
        "a=17\n",
        "if a==18:\n",
        "    print(\"hi\")"
      ]
    },
    {
      "cell_type": "code",
      "execution_count": null,
      "id": "f0662305",
      "metadata": {
        "id": "f0662305"
      },
      "outputs": [],
      "source": [
        "a=0\n",
        "b=3\n",
        "\n",
        "if a>5:\n",
        "  a+=1\n",
        "  print(a)\n",
        "\n",
        "if b<5:\n",
        "    b+=100\n",
        "    print(b)\n",
        "\n",
        ""
      ]
    },
    {
      "cell_type": "markdown",
      "id": "fc912278",
      "metadata": {
        "id": "fc912278"
      },
      "source": [
        "### [重要]! 縮排要準確(鍵盤上的tab)"
      ]
    },
    {
      "cell_type": "code",
      "execution_count": null,
      "id": "1d0445ba",
      "metadata": {
        "id": "1d0445ba"
      },
      "outputs": [],
      "source": [
        "# 跟上面差在哪裡呢?\n",
        "\n",
        "a=0\n",
        "if a>5:\n",
        "  a+=1\n",
        "\n",
        "print(a)"
      ]
    },
    {
      "cell_type": "markdown",
      "id": "6e095a1e",
      "metadata": {
        "id": "6e095a1e"
      },
      "source": [
        "### if...else   如果 ..... 否則\n",
        "### if...elif...else 如果...不然如果...否則"
      ]
    },
    {
      "cell_type": "code",
      "execution_count": null,
      "id": "fd9b5e8a",
      "metadata": {
        "id": "fd9b5e8a"
      },
      "outputs": [],
      "source": [
        "age=int(input(\"你幾歲: \"))\n",
        "\n",
        "if age>=65:\n",
        "    print(\"優待票\")\n",
        "elif age>=18:\n",
        "    print(\"全票\")\n",
        "elif age>=12:\n",
        "    print(\"學生票\")\n",
        "else:\n",
        "    print(\"孩童免費\")"
      ]
    },
    {
      "cell_type": "markdown",
      "id": "902d505d",
      "metadata": {
        "id": "902d505d"
      },
      "source": [
        "#### 從上面的例子，有沒有注意到甚麼小技巧(提示: 判斷的順序)"
      ]
    },
    {
      "cell_type": "markdown",
      "id": "d9761e76",
      "metadata": {
        "id": "d9761e76"
      },
      "source": [
        "## 練習A"
      ]
    },
    {
      "cell_type": "markdown",
      "id": "10c285a7",
      "metadata": {
        "id": "10c285a7"
      },
      "source": [
        "### 1.輸入您的考試成績 <br>2.用if elif else判斷等第 <br>3.輸出: [您的成績是 XXX，等第結果是：XX]  \n",
        "90-100=A+, 80-90=A..."
      ]
    },
    {
      "cell_type": "code",
      "execution_count": null,
      "id": "e4286c6c",
      "metadata": {
        "id": "e4286c6c"
      },
      "outputs": [],
      "source": [
        "#答案"
      ]
    },
    {
      "cell_type": "markdown",
      "id": "1fcdec79",
      "metadata": {
        "id": "1fcdec79"
      },
      "source": [
        "## 5.邏輯判斷 while"
      ]
    },
    {
      "cell_type": "code",
      "execution_count": null,
      "id": "1f473496",
      "metadata": {
        "id": "1f473496"
      },
      "outputs": [],
      "source": [
        "# while 常用在判斷有沒有接收到正確的輸入，或是有幾個接收case\n",
        "\n",
        "ask=True\n",
        "while ask:\n",
        "    a=input(\"天線寶寶說: \")\n",
        "    if (a==\"你好\"):\n",
        "        ask=False\n",
        "\n",
        "print(\"答對了\")"
      ]
    },
    {
      "cell_type": "code",
      "execution_count": null,
      "id": "19655032",
      "metadata": {
        "id": "19655032"
      },
      "outputs": [],
      "source": [
        "case_num=int(input(\"幾個case: \"))\n",
        "while case_num:\n",
        "    #這裡通常會是要執行的內容\n",
        "    print(f\"還有{case_num}次.\")\n",
        "    case_num-=1"
      ]
    },
    {
      "cell_type": "markdown",
      "id": "4db11d45",
      "metadata": {
        "id": "4db11d45"
      },
      "source": [
        "## 6. 迴圈 for"
      ]
    },
    {
      "cell_type": "markdown",
      "id": "73abce9b",
      "metadata": {
        "id": "73abce9b"
      },
      "source": [
        "你可以設定重複的次數，以及每次重複時\n",
        "要做甚麼運算(計數、累加、輸出…)"
      ]
    },
    {
      "cell_type": "code",
      "execution_count": null,
      "id": "352df157",
      "metadata": {
        "id": "352df157"
      },
      "outputs": [],
      "source": [
        "#基本\n",
        "for i in range(5):\n",
        "    print(i)\n",
        "\n",
        "\n",
        "#1+2+3.....+99+100\n",
        "A=0\n",
        "for i in range(101):\n",
        "    A=A+i\n",
        "print(A)"
      ]
    },
    {
      "cell_type": "markdown",
      "source": [
        "用法1: range(n) ：從0開始，每次增加1，直到n-1<br>for i in range(3): → i = 0, 1, 2"
      ],
      "metadata": {
        "id": "Umfe4HgWRxQp"
      },
      "id": "Umfe4HgWRxQp"
    },
    {
      "cell_type": "markdown",
      "source": [
        "用法2: 從第一個數開始，每次增加1，直到該數-1\n",
        "<br>for i in range(1,3): → i = 1, 2"
      ],
      "metadata": {
        "id": "u-5Z1txaSKcL"
      },
      "id": "u-5Z1txaSKcL"
    },
    {
      "cell_type": "markdown",
      "source": [
        "用法3:<br>\n",
        "◼ for i in range(1,8,2): → i=1, 3, 5, 7<br>\n",
        "◼ for i in range(8,1,-2): → i=8, 6, 4, 2"
      ],
      "metadata": {
        "id": "8zRThvKcSt3Q"
      },
      "id": "8zRThvKcSt3Q"
    },
    {
      "cell_type": "code",
      "execution_count": null,
      "id": "51d41356",
      "metadata": {
        "id": "51d41356"
      },
      "outputs": [],
      "source": [
        "# 也支援這種寫法 是不是很方便呢?\n",
        "text = \"Hello\"\n",
        "for char in text:\n",
        "    print(char)"
      ]
    },
    {
      "cell_type": "code",
      "execution_count": null,
      "id": "62e41edc",
      "metadata": {
        "id": "62e41edc"
      },
      "outputs": [],
      "source": [
        "\n",
        "for i in range(1, 10):\n",
        "    for j in range(1, 10):\n",
        "        print(f\"{i} * {j} = {i * j}\", end=\"\\t\")\n",
        "    print()\n"
      ]
    },
    {
      "cell_type": "markdown",
      "id": "fe477fec",
      "metadata": {
        "id": "fe477fec"
      },
      "source": [
        "算出 1!+2!+3!.....+10!"
      ]
    },
    {
      "cell_type": "code",
      "execution_count": null,
      "id": "5cf6f98f",
      "metadata": {
        "id": "5cf6f98f"
      },
      "outputs": [],
      "source": [
        "#邏輯有點複雜-想想看囉~\n",
        "\n",
        "A=0\n",
        "B=1\n",
        "for i in range(1,11):\n",
        "    B*=i\n",
        "    A+=B\n",
        "print(A)"
      ]
    },
    {
      "cell_type": "markdown",
      "id": "13bb60bc",
      "metadata": {
        "id": "13bb60bc"
      },
      "source": [
        "### 練習B - 程式必考題[金字塔]"
      ]
    },
    {
      "cell_type": "markdown",
      "id": "b1bc09dd",
      "metadata": {
        "id": "b1bc09dd"
      },
      "source": [
        "運用for print出金字塔<br>hint: 空格=總高-目前高,* =2 x 高-1"
      ]
    },
    {
      "cell_type": "code",
      "execution_count": null,
      "id": "d2b692f8",
      "metadata": {
        "id": "d2b692f8"
      },
      "outputs": [],
      "source": [
        "#ver1"
      ]
    },
    {
      "cell_type": "code",
      "execution_count": null,
      "id": "bf75376f",
      "metadata": {
        "id": "bf75376f"
      },
      "outputs": [],
      "source": [
        "#ver2"
      ]
    },
    {
      "cell_type": "markdown",
      "id": "5fedf364",
      "metadata": {
        "id": "5fedf364"
      },
      "source": [
        "## 7.函式"
      ]
    },
    {
      "cell_type": "code",
      "execution_count": null,
      "id": "3da029ca",
      "metadata": {
        "id": "3da029ca"
      },
      "outputs": [],
      "source": [
        "def function_name(value):\n",
        "    print(\"函式內容在這\")"
      ]
    },
    {
      "cell_type": "markdown",
      "id": "d62199cb",
      "metadata": {
        "id": "d62199cb"
      },
      "source": [
        "#### 參數與回傳值"
      ]
    },
    {
      "cell_type": "code",
      "execution_count": null,
      "id": "cac9a076",
      "metadata": {
        "id": "cac9a076"
      },
      "outputs": [],
      "source": [
        "def calculate_multi7(number): #step2: 參數 number=20\n",
        "\n",
        "    return number*7\n",
        "\n",
        "\n",
        "result=calculate_multi7(20)  #step1: 呼叫 \"calculate_multi7\" 並給引數=20，同時將回傳值存進result\n",
        "\n",
        "print(result)"
      ]
    },
    {
      "cell_type": "markdown",
      "source": [
        "## 進階練習"
      ],
      "metadata": {
        "id": "7T92gzvOZcpp"
      },
      "id": "7T92gzvOZcpp"
    },
    {
      "cell_type": "code",
      "execution_count": null,
      "id": "f7690d86",
      "metadata": {
        "id": "f7690d86"
      },
      "outputs": [],
      "source": [
        "#進階練習\n",
        "def print_pyramid(layer):\n",
        "# 完成此區\n",
        "  n=1 #n=?\n",
        "\n",
        "a=int(input(\"你想要金字塔幾層\"))\n",
        "print_pyramid(a)"
      ]
    },
    {
      "cell_type": "markdown",
      "id": "6c5b912a",
      "metadata": {
        "id": "6c5b912a"
      },
      "source": [
        "## 8.模組是甚麼?"
      ]
    },
    {
      "cell_type": "code",
      "execution_count": null,
      "id": "f02409e8",
      "metadata": {
        "id": "f02409e8"
      },
      "outputs": [],
      "source": [
        "import math\n",
        "\n",
        "test=math.sqrt(49)\n",
        "print(test)"
      ]
    },
    {
      "cell_type": "code",
      "execution_count": null,
      "id": "a4d011e9",
      "metadata": {
        "id": "a4d011e9"
      },
      "outputs": [],
      "source": [
        "import numpy as np\n",
        "arr = np.array([1, 2, 3, 4, 5])\n",
        "\n",
        "\n",
        "mean_value = np.mean(arr)\n",
        "variance = np.var(arr)\n",
        "min_value = np.min(arr)\n",
        "\n",
        "print(mean_value,variance,min_value)"
      ]
    },
    {
      "cell_type": "markdown",
      "id": "6771c99d",
      "metadata": {
        "id": "6771c99d"
      },
      "source": [
        "### 補充- 遞迴"
      ]
    },
    {
      "cell_type": "code",
      "execution_count": null,
      "id": "bb754daa",
      "metadata": {
        "id": "bb754daa"
      },
      "outputs": [],
      "source": [
        "# n! = n * (n-1)!，其中 n > 0\n",
        "# 0! = 1\n",
        "\n",
        "def factorial(n):\n",
        "    if n == 0:\n",
        "        return 1\n",
        "    else:\n",
        "        return n * factorial(n - 1)   #遞迴(Recursion)\n",
        "\n",
        "result = factorial(5)\n",
        "print(result)"
      ]
    }
  ],
  "metadata": {
    "kernelspec": {
      "display_name": "Python 3 (ipykernel)",
      "language": "python",
      "name": "python3"
    },
    "language_info": {
      "codemirror_mode": {
        "name": "ipython",
        "version": 3
      },
      "file_extension": ".py",
      "mimetype": "text/x-python",
      "name": "python",
      "nbconvert_exporter": "python",
      "pygments_lexer": "ipython3",
      "version": "3.9.13"
    },
    "colab": {
      "provenance": []
    }
  },
  "nbformat": 4,
  "nbformat_minor": 5
}