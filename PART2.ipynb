{
 "cells": [
  {
   "cell_type": "markdown",
   "id": "f538826f",
   "metadata": {},
   "source": [
    "# 第二部分-實際應用"
   ]
  },
  {
   "cell_type": "markdown",
   "id": "34304526",
   "metadata": {},
   "source": [
    "#### 今日目標: <br>針對此網站https://www.u-car.com.tw/ 進行一些資料分析"
   ]
  },
  {
   "cell_type": "markdown",
   "id": "b1cbe6bc",
   "metadata": {},
   "source": [
    "### 步驟1-資料收集(爬蟲應用)"
   ]
  },
  {
   "cell_type": "code",
   "execution_count": null,
   "id": "851aa303",
   "metadata": {},
   "outputs": [],
   "source": [
    "import requests\n",
    "from bs4 import BeautifulSoup\n",
    "import csv\n",
    "\n",
    "headers = {\n",
    "    'User-Agent': 'Mozilla/5.0 (Windows NT 10.0; Win64; x64) AppleWebKit/537.36 (KHTML, like Gecko) Chrome/58.0.3029.110 Safari/537.36'}\n",
    "\n",
    "url = 'https://newcar.u-car.com.tw/newcar/search?bodytype=0&minprice=&maxprice=&size=0&displacement=0&fueltype=0'\n",
    "\n",
    "response = requests.get(url, headers=headers)\n",
    "\n",
    "\n",
    "if response.status_code == 200:\n",
    "    \n",
    "    soup = BeautifulSoup(response.text, 'html.parser')\n",
    "    \n",
    "    car_info_elements = soup.select('.newcar_range_ideal') #縮小範圍\n",
    "\n",
    "    with open('ucar_car_models.csv', 'w', newline='', encoding='utf-8') as csv_file:\n",
    "        \n",
    "        csv_writer = csv.writer(csv_file)\n",
    "        \n",
    "        csv_writer.writerow(['brand','product','cc','price'])\n",
    "\n",
    "        for car_info_element in car_info_elements:\n",
    "                     \n",
    "            car_model = car_info_element.select_one('.title_brand').text.strip()\n",
    "            car_style = car_info_element.select_one('.title').text.strip()\n",
    "            cc=car_info_element.select_one('.cc_text').text.strip()\n",
    "            car_price = car_info_element.select_one('.price_number strong').text.strip()\n",
    "            \n",
    "            csv_writer.writerow([car_model, car_style, cc,car_price])\n",
    "\n",
    "    print(\"存於ucar_car_models.csv檔案。\")\n",
    "\n",
    "else:\n",
    "    print(\"失敗:\", response.status_code)"
   ]
  },
  {
   "cell_type": "markdown",
   "id": "1c491c4c",
   "metadata": {},
   "source": [
    "### 步驟2-資料處理"
   ]
  },
  {
   "cell_type": "code",
   "execution_count": null,
   "id": "e07682af",
   "metadata": {},
   "outputs": [],
   "source": [
    "import pandas as pd #通用習慣pd\n",
    "#如果沒有pandas-pip"
   ]
  },
  {
   "cell_type": "code",
   "execution_count": null,
   "id": "5946e099",
   "metadata": {},
   "outputs": [],
   "source": [
    "# pd.read_csv()\n"
   ]
  },
  {
   "cell_type": "code",
   "execution_count": null,
   "id": "3e226c56",
   "metadata": {
    "scrolled": true
   },
   "outputs": [],
   "source": [
    "#顯示出前10筆資料，預設值為5筆資料\n"
   ]
  },
  {
   "cell_type": "markdown",
   "id": "41143c4c",
   "metadata": {},
   "source": [
    "### 技巧1 缺失值處理"
   ]
  },
  {
   "cell_type": "code",
   "execution_count": null,
   "id": "51855ed5",
   "metadata": {
    "scrolled": true
   },
   "outputs": [],
   "source": [
    "#isnull().sum()\n",
    "\n",
    "missing_values = df.isnull().sum()\n",
    "print(\"\\n缺失值統計:\")\n",
    "print(missing_values)"
   ]
  },
  {
   "cell_type": "markdown",
   "id": "d078bf87",
   "metadata": {},
   "source": [
    "#### (參考)若有缺失值"
   ]
  },
  {
   "cell_type": "code",
   "execution_count": null,
   "id": "00982dee",
   "metadata": {},
   "outputs": [],
   "source": [
    "# (參考)若有缺失值\n",
    "df2 = pd.read_csv('./ucar_car_models2.csv',encoding='unicode_escape') \n",
    "\n",
    "df2"
   ]
  },
  {
   "cell_type": "code",
   "execution_count": null,
   "id": "4d182092",
   "metadata": {},
   "outputs": [],
   "source": [
    "missing_values = df2.isnull().sum()\n",
    "print(\"\\n缺失值統計:\")\n",
    "print(missing_values)"
   ]
  },
  {
   "cell_type": "markdown",
   "id": "3243740d",
   "metadata": {},
   "source": [
    "#### 直接刪除有缺的部分 or 想辦法填補該值e.g. 平均值/中位數"
   ]
  },
  {
   "cell_type": "code",
   "execution_count": null,
   "id": "5a2955c8",
   "metadata": {},
   "outputs": [],
   "source": [
    "df2 = df2.dropna(subset=['product']) #直接刪除\n",
    "df2 = df2.dropna(subset=['price']) #直接刪除\n",
    "df2"
   ]
  },
  {
   "cell_type": "code",
   "execution_count": null,
   "id": "f1cb9714",
   "metadata": {},
   "outputs": [],
   "source": [
    "missing_values = df2.isnull().sum()\n",
    "print(\"\\n缺失值統計:\")\n",
    "print(missing_values)"
   ]
  },
  {
   "cell_type": "markdown",
   "id": "f785efcf",
   "metadata": {},
   "source": [
    "### 技巧2 欄位統一格式\n",
    "將車價原本為範圍的選取成高價之數字"
   ]
  },
  {
   "cell_type": "code",
   "execution_count": null,
   "id": "b2fea08b",
   "metadata": {},
   "outputs": [],
   "source": [
    "import re\n",
    "def process_price(value):\n",
    "    # 使用正則表達式提取 \"-\" 後的數字\n",
    "    match = re.search(r'-(.*)', value)\n",
    "    \n",
    "    # 如果有匹配到，返回 \"-\" 後的數字，否則返回原始值\n",
    "    return match.group(1) if match else value\n",
    "\n",
    "# 將函數應用於 \"price\" 欄位\n",
    "df['price'] = df['price'].apply(process_price)\n",
    "\n",
    "# 將 \"price\" 欄位轉換為數字\n",
    "df['price'] = pd.to_numeric(df['price'], errors='coerce')"
   ]
  },
  {
   "cell_type": "code",
   "execution_count": null,
   "id": "b0963a53",
   "metadata": {},
   "outputs": [],
   "source": [
    "df"
   ]
  },
  {
   "cell_type": "markdown",
   "id": "c5a22716",
   "metadata": {},
   "source": [
    "### 步驟3-資料分析"
   ]
  },
  {
   "cell_type": "code",
   "execution_count": null,
   "id": "5f9d4d8c",
   "metadata": {},
   "outputs": [],
   "source": [
    "#查看欄位描述性統計\n"
   ]
  },
  {
   "cell_type": "code",
   "execution_count": null,
   "id": "2e16cfb2",
   "metadata": {
    "scrolled": false
   },
   "outputs": [],
   "source": [
    "#查看各廠牌的數量\n"
   ]
  },
  {
   "cell_type": "code",
   "execution_count": null,
   "id": "6bcfdb4e",
   "metadata": {},
   "outputs": [],
   "source": [
    "#查看各品牌特定cc數量\n",
    "\n",
    "# 顯示結果\n"
   ]
  },
  {
   "cell_type": "code",
   "execution_count": null,
   "id": "ec8f8a20",
   "metadata": {},
   "outputs": [],
   "source": [
    "#查看有多少 cc=0 電動車\n"
   ]
  },
  {
   "cell_type": "code",
   "execution_count": null,
   "id": "9bf8d37c",
   "metadata": {},
   "outputs": [],
   "source": [
    "#將結果儲存\n",
    "outputpath = 'ele_car.csv'\n",
    "# outputpath是保存文件的路徑\n",
    "\n",
    "ele_car.to_csv(outputpath,sep=',',index=False,header=True) "
   ]
  },
  {
   "cell_type": "markdown",
   "id": "36f6a823",
   "metadata": {},
   "source": [
    "#### 進階挑戰-機器學習入門\n",
    "KNN演算法"
   ]
  },
  {
   "cell_type": "code",
   "execution_count": null,
   "id": "dad4e155",
   "metadata": {},
   "outputs": [],
   "source": [
    "import matplotlib.pyplot as plt\n",
    "import seaborn as sns\n",
    "from sklearn.neighbors import KNeighborsClassifier\n",
    "from sklearn.preprocessing import LabelEncoder\n",
    "from sklearn.model_selection import train_test_split\n",
    "from sklearn.metrics import accuracy_score\n",
    "\n",
    "# 選取 \"brand\" 是 \"Toyota\" 或 \"BMW\" 的資料\n",
    "selected_brands = ['Mercedes-Benz', 'Toyota']\n",
    "selected_data = df[df['brand'].isin(selected_brands)]\n",
    "\n",
    "# 將 \"brand\" 轉換為數字，因為 KNN 算法需要數字型態的輸入\n",
    "le = LabelEncoder()\n",
    "selected_data['brand'] = le.fit_transform(selected_data['brand'])\n",
    "\n",
    "# 分割特徵和目標變數\n",
    "X = selected_data[['cc', 'price']]\n",
    "y = selected_data['brand']\n",
    "\n",
    "# 將資料分割為訓練集和測試集\n",
    "X_train, X_test, y_train, y_test = train_test_split(X, y, test_size=0.2, random_state=42)\n",
    "\n",
    "# 初始化 KNN 分類器，這裡假設 K=3\n",
    "knn = KNeighborsClassifier(n_neighbors=3)\n",
    "\n",
    "# 訓練模型\n",
    "knn.fit(X_train, y_train)\n",
    "\n",
    "# 預測\n",
    "y_pred = knn.predict(X_test)\n",
    "\n",
    "# 評估準確性\n",
    "accuracy = accuracy_score(y_test, y_pred)\n",
    "print(f'Accuracy: {accuracy}')\n",
    "\n",
    "# 視覺化\n",
    "sns.scatterplot(x='cc', y='price', hue='brand', data=selected_data, palette='Set1')\n",
    "plt.title('Scatter Plot of cc vs. price')\n",
    "plt.show()"
   ]
  },
  {
   "cell_type": "code",
   "execution_count": null,
   "id": "e9d57b88",
   "metadata": {},
   "outputs": [],
   "source": [
    "import numpy as np\n",
    "\n",
    "# 新增一個點\n",
    "new_cc = 3000  # 你的新 cc 值\n",
    "new_price = 550.0  # 你的新 price 值\n",
    "new_point = np.array([[new_cc, new_price]])\n",
    "\n",
    "# 將新點轉換為與訓練集相同的格式\n",
    "new_point_df = pd.DataFrame(new_point, columns=['cc', 'price'])\n",
    "new_point_df['brand'] = knn.predict(new_point_df[['cc', 'price']])\n",
    "\n",
    "# 視覺化\n",
    "sns.scatterplot(x='cc', y='price', hue='brand', data=selected_data, palette='Set1')\n",
    "plt.scatter(new_point_df['cc'], new_point_df['price'], marker='X', s=100, color='red', label='New Point')\n",
    "plt.title('Scatter Plot of cc vs. price with New Point')\n",
    "plt.legend()\n",
    "plt.show()\n",
    "\n",
    "# 打印新點的預測結果\n",
    "predicted_brand = le.inverse_transform(new_point_df['brand'])[0]\n",
    "print(f'The new point is predicted to belong to the brand: {predicted_brand}')\n"
   ]
  },
  {
   "cell_type": "markdown",
   "id": "99323040",
   "metadata": {},
   "source": [
    "#### 步驟4-視覺化呈現"
   ]
  },
  {
   "cell_type": "markdown",
   "id": "fbfe396e",
   "metadata": {},
   "source": [
    "#### 練習1-cc數與價格的散布圖"
   ]
  },
  {
   "cell_type": "code",
   "execution_count": null,
   "id": "10f808ab",
   "metadata": {},
   "outputs": [],
   "source": [
    "# 視覺化散點圖\n",
    "\n",
    "# 添加軸標籤和標題\n",
    "\n",
    "# 顯示視覺化圖\n"
   ]
  },
  {
   "cell_type": "markdown",
   "id": "dd712069",
   "metadata": {},
   "source": [
    "#### 練習2-對'BMW', 'Porsche','Toyota' 的價格製作boxplot"
   ]
  },
  {
   "cell_type": "code",
   "execution_count": null,
   "id": "c050eeee",
   "metadata": {},
   "outputs": [],
   "source": [
    "selected_brands = ['BMW', 'Porsche','Toyota']\n",
    "selected_data = df[df['brand'].isin(selected_brands)]\n",
    "\n",
    "# 繪製盒狀圖\n",
    "plt.figure(figsize=(10, 6))\n",
    "plt.boxplot([selected_data[selected_data['brand'] == brand]['price'] for brand in selected_brands], labels=selected_brands, vert=True)\n",
    "plt.xlabel('Price')\n",
    "plt.title('Box Plot of Car Prices for BMW and Mercedes-Benz and Toyota')\n",
    "plt.show()"
   ]
  },
  {
   "cell_type": "markdown",
   "id": "c35719b3",
   "metadata": {},
   "source": [
    "#### 練習3-各家廠牌電動車的平均價格"
   ]
  },
  {
   "cell_type": "code",
   "execution_count": null,
   "id": "8125808b",
   "metadata": {},
   "outputs": [],
   "source": [
    "#電動車"
   ]
  },
  {
   "cell_type": "code",
   "execution_count": null,
   "id": "2e1df193",
   "metadata": {},
   "outputs": [],
   "source": [
    "#計算平均\n",
    "\n",
    "# 顯示結果\n"
   ]
  },
  {
   "cell_type": "code",
   "execution_count": null,
   "id": "13c6c01f",
   "metadata": {},
   "outputs": [],
   "source": [
    "sns.set(style=\"whitegrid\")\n",
    "\n",
    "# 使用條形圖\n",
    "plt.figure(figsize=(10, 6))\n",
    "sns.barplot(x='brand', y='price', data=average_price_by_brand, palette='viridis')\n",
    "plt.xlabel('Brand')\n",
    "plt.ylabel('Price')\n",
    "plt.title('Bar Chart of ele_Car Prices by Brand')\n",
    "plt.xticks(rotation=45, ha='right')\n",
    "plt.show()"
   ]
  }
 ],
 "metadata": {
  "kernelspec": {
   "display_name": "Python 3 (ipykernel)",
   "language": "python",
   "name": "python3"
  },
  "language_info": {
   "codemirror_mode": {
    "name": "ipython",
    "version": 3
   },
   "file_extension": ".py",
   "mimetype": "text/x-python",
   "name": "python",
   "nbconvert_exporter": "python",
   "pygments_lexer": "ipython3",
   "version": "3.9.13"
  }
 },
 "nbformat": 4,
 "nbformat_minor": 5
}
